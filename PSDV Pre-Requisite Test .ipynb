{
 "cells": [
  {
   "cell_type": "markdown",
   "id": "771523f5-7028-4e0e-a34b-9025fafc26a9",
   "metadata": {},
   "source": [
    "# PSDV Pre-Requisite Test"
   ]
  },
  {
   "cell_type": "markdown",
   "id": "4bf006a0-acd5-421a-90c8-c8f1ea4c2779",
   "metadata": {},
   "source": [
    "# Question 1"
   ]
  },
  {
   "cell_type": "code",
   "execution_count": 1,
   "id": "aa7ddb87-b768-4c7e-9aff-24e46bb45063",
   "metadata": {},
   "outputs": [
    {
     "name": "stdout",
     "output_type": "stream",
     "text": [
      "110\n",
      "654729075\n"
     ]
    }
   ],
   "source": [
    "l = []\n",
    "for i in range(1,21):\n",
    "    l.append(i)\n",
    "s = 0 \n",
    "for i in l:\n",
    "    if i%2==0:\n",
    "        s+=i\n",
    "print(s)\n",
    "p = 1\n",
    "for i in l:\n",
    "    if i%2!=0:\n",
    "        p*=i\n",
    "print(p)\n"
   ]
  },
  {
   "cell_type": "markdown",
   "id": "40ab2a5d-b385-480c-8f46-36ac829a8ec0",
   "metadata": {},
   "source": [
    "# Question 2"
   ]
  },
  {
   "cell_type": "markdown",
   "id": "a03f3569-d605-459a-bdc5-14ac19fc48bb",
   "metadata": {},
   "source": [
    "Immutable Datatypes"
   ]
  },
  {
   "cell_type": "markdown",
   "id": "8410805d-924e-41ce-9303-1739ec5483aa",
   "metadata": {},
   "source": [
    "Immutable Datatypes are the ones in which we can't change the entries that are filled in it. For example, strings, tuples, etc."
   ]
  },
  {
   "cell_type": "code",
   "execution_count": 2,
   "id": "c6922e26-d204-4cd8-890b-71971a1d4e9f",
   "metadata": {},
   "outputs": [
    {
     "ename": "TypeError",
     "evalue": "'str' object does not support item assignment",
     "output_type": "error",
     "traceback": [
      "\u001b[1;31m---------------------------------------------------------------------------\u001b[0m",
      "\u001b[1;31mTypeError\u001b[0m                                 Traceback (most recent call last)",
      "Cell \u001b[1;32mIn[2], line 2\u001b[0m\n\u001b[0;32m      1\u001b[0m s \u001b[38;5;241m=\u001b[39m \u001b[38;5;124m'\u001b[39m\u001b[38;5;124mabcde\u001b[39m\u001b[38;5;124m'\u001b[39m\n\u001b[1;32m----> 2\u001b[0m \u001b[43ms\u001b[49m\u001b[43m[\u001b[49m\u001b[38;5;241;43m1\u001b[39;49m\u001b[43m]\u001b[49m \u001b[38;5;241m=\u001b[39m \u001b[38;5;124m'\u001b[39m\u001b[38;5;124mB\u001b[39m\u001b[38;5;124m'\u001b[39m\n",
      "\u001b[1;31mTypeError\u001b[0m: 'str' object does not support item assignment"
     ]
    }
   ],
   "source": [
    "s = 'abcde'\n",
    "s[1] = 'B'"
   ]
  },
  {
   "cell_type": "markdown",
   "id": "1fc06709-1eef-4566-9696-430560f4a2a3",
   "metadata": {},
   "source": [
    "Mutable Datatypes"
   ]
  },
  {
   "cell_type": "markdown",
   "id": "bb50e2f3-37f1-4a17-8f2a-d30a2b2f1691",
   "metadata": {},
   "source": [
    "In Mutable Datatypes, we are able to the change the entries that are filled in it. For example, list, dictionary, etc."
   ]
  },
  {
   "cell_type": "code",
   "execution_count": 3,
   "id": "f77775ba-5a10-41e0-9552-681a342dd21b",
   "metadata": {},
   "outputs": [
    {
     "data": {
      "text/plain": [
       "[1, 35, 3, 4, 5]"
      ]
     },
     "execution_count": 3,
     "metadata": {},
     "output_type": "execute_result"
    }
   ],
   "source": [
    "l = [1,2,3,4,5]\n",
    "l[1]=35\n",
    "l"
   ]
  },
  {
   "cell_type": "markdown",
   "id": "ab8b2895-e607-4fca-84d0-0f6c3442a71a",
   "metadata": {},
   "source": [
    "# Question 3"
   ]
  },
  {
   "cell_type": "code",
   "execution_count": 4,
   "id": "dd5888c8-f25b-445a-bffd-abace1453f9d",
   "metadata": {},
   "outputs": [
    {
     "name": "stdout",
     "output_type": "stream",
     "text": [
      "[0, 1, 1, 2, 3, 5, 8]\n"
     ]
    },
    {
     "data": {
      "image/png": "[encoded data removed]",
      "text/plain": [
       "<Figure size 640x480 with 1 Axes>"
      ]
     },
     "metadata": {},
     "output_type": "display_data"
    }
   ],
   "source": [
    "def fibonacci(n):\n",
    "    a=0\n",
    "    b=1\n",
    "    l = []\n",
    "    for i in range(1,n+1):\n",
    "        if i == 1:\n",
    "            l.append(0)\n",
    "        elif i == 2:\n",
    "            l.append(1)\n",
    "        else:\n",
    "            c=a+b\n",
    "            l.append(c)\n",
    "            a = b\n",
    "            b = c\n",
    "    return l\n",
    "x = fibonacci(7)\n",
    "print(x)\n",
    "from matplotlib import pyplot as plt\n",
    "y = [1,2,3,4,5,6,7]\n",
    "plt.plot(y,x)\n",
    "plt.show()"
   ]
  },
  {
   "cell_type": "markdown",
   "id": "9ec52c13-6596-47d3-87c3-a40fa35bb4db",
   "metadata": {},
   "source": [
    "# Question 4"
   ]
  },
  {
   "cell_type": "code",
   "execution_count": 5,
   "id": "95f9df63-0b36-4bac-9a0b-4f9261f7ca23",
   "metadata": {},
   "outputs": [
    {
     "data": {
      "text/plain": [
       "[3, 5, 7, 6, 9, 11, 13]"
      ]
     },
     "execution_count": 5,
     "metadata": {},
     "output_type": "execute_result"
    }
   ],
   "source": [
    "l = [3,5,7,9,11,13]\n",
    "l.insert(3,6)\n",
    "l"
   ]
  },
  {
   "cell_type": "code",
   "execution_count": 6,
   "id": "b6b28a4d-f547-450b-8bed-5016ed67e6bb",
   "metadata": {},
   "outputs": [
    {
     "data": {
      "text/plain": [
       "[3, 5, 6, 9, 11, 13]"
      ]
     },
     "execution_count": 6,
     "metadata": {},
     "output_type": "execute_result"
    }
   ],
   "source": [
    "l.remove(7)\n",
    "l"
   ]
  },
  {
   "cell_type": "code",
   "execution_count": 7,
   "id": "0ce1e9ac-d38d-4923-99c5-65f371cc9c6a",
   "metadata": {},
   "outputs": [
    {
     "name": "stdout",
     "output_type": "stream",
     "text": [
      "[13, 11, 9, 6, 5, 3]\n"
     ]
    }
   ],
   "source": [
    "l.reverse()\n",
    "print(l)"
   ]
  },
  {
   "cell_type": "code",
   "execution_count": 8,
   "id": "ed5db1d8-a3e6-4b11-9c17-5447b0c796a8",
   "metadata": {},
   "outputs": [
    {
     "name": "stdout",
     "output_type": "stream",
     "text": [
      "7.833333333333333\n"
     ]
    }
   ],
   "source": [
    "mean = sum(l)/len(l)\n",
    "print(mean)"
   ]
  },
  {
   "cell_type": "code",
   "execution_count": 9,
   "id": "be884083-9f64-4858-9cf2-636c431a5c10",
   "metadata": {},
   "outputs": [
    {
     "name": "stdout",
     "output_type": "stream",
     "text": [
      "7.5\n"
     ]
    }
   ],
   "source": [
    "l.sort()\n",
    "n = len(l)\n",
    "if n%2 == 0:\n",
    "    median = (l[n//2-1]+l[n//2])/2\n",
    "else:\n",
    "    median = l[n//2]\n",
    "print(median)"
   ]
  },
  {
   "cell_type": "markdown",
   "id": "6de23cc7-df1c-46a9-b2f8-910b654258e9",
   "metadata": {},
   "source": [
    "# Question 5"
   ]
  },
  {
   "cell_type": "code",
   "execution_count": 1,
   "id": "5319464c-d653-4a22-99c1-26fc134a3fc5",
   "metadata": {},
   "outputs": [
    {
     "name": "stdin",
     "output_type": "stream",
     "text": [
      " 10,20,30,40\n"
     ]
    },
    {
     "name": "stdout",
     "output_type": "stream",
     "text": [
      "[10, 20, 30, 40]\n",
      "25.0\n",
      "10\n",
      "40\n"
     ]
    },
    {
     "data": {
      "image/png": "[encoded data removed]",
      "text/plain": [
       "<Figure size 640x480 with 1 Axes>"
      ]
     },
     "metadata": {},
     "output_type": "display_data"
    }
   ],
   "source": [
    "l = list(map(int, input().split(\",\")))\n",
    "print(l)\n",
    "\n",
    "mean = sum(l)/len(l)\n",
    "print(mean)\n",
    "\n",
    "min = 100\n",
    "for i in l:\n",
    "    if i<min:\n",
    "        min = i\n",
    "print(min)\n",
    "\n",
    "max = 0\n",
    "for i in l:\n",
    "    if i>max:\n",
    "        max = i\n",
    "print(max)\n",
    "\n",
    "import matplotlib.pyplot as plt\n",
    "\n",
    "plt.hist(l)\n",
    "plt.show()\n"
   ]
  },
  {
   "cell_type": "markdown",
   "id": "29dafcba-edf8-4940-b56b-b1c6997abaf5",
   "metadata": {},
   "source": [
    "# Question 6"
   ]
  },
  {
   "cell_type": "code",
   "execution_count": 2,
   "id": "31eca08a-f8a2-4429-be83-13c3a4e3b646",
   "metadata": {},
   "outputs": [
    {
     "name": "stdin",
     "output_type": "stream",
     "text": [
      " Racecar\n"
     ]
    },
    {
     "name": "stdout",
     "output_type": "stream",
     "text": [
      "True\n"
     ]
    }
   ],
   "source": [
    "s = input()\n",
    "l = []\n",
    "\n",
    "for i in s:\n",
    "    if i != ' ':\n",
    "        l.append(i.lower())\n",
    "\n",
    "z = l[::-1]\n",
    "\n",
    "if z == l:\n",
    "    print(\"True\")\n",
    "else:\n",
    "    print(\"False\")"
   ]
  },
  {
   "cell_type": "markdown",
   "id": "0386140e-03e1-44fb-8bf0-c838218c7293",
   "metadata": {},
   "source": [
    "# Question 7"
   ]
  },
  {
   "cell_type": "code",
   "execution_count": 3,
   "id": "bd36f8dd-794f-4414-ba96-72a08c99497c",
   "metadata": {},
   "outputs": [],
   "source": [
    "d = {'Ram': 89, 'Roy': 76, 'Adam': 59, 'Smith': 93}"
   ]
  },
  {
   "cell_type": "code",
   "execution_count": 4,
   "id": "293c9818-bd0d-48d5-8453-c26e79be3af9",
   "metadata": {},
   "outputs": [
    {
     "name": "stdout",
     "output_type": "stream",
     "text": [
      "79.25\n"
     ]
    }
   ],
   "source": [
    "l = list(d.values())\n",
    "avg_marks = sum(l)/len(l)\n",
    "print(avg_marks)"
   ]
  },
  {
   "cell_type": "code",
   "execution_count": 5,
   "id": "233b872b-6768-41e2-a7bc-f7fb91f30a61",
   "metadata": {},
   "outputs": [
    {
     "name": "stdout",
     "output_type": "stream",
     "text": [
      "Ram\n",
      "Smith\n"
     ]
    }
   ],
   "source": [
    "for i in d:\n",
    "    if d[i]>avg_marks:\n",
    "        print(i)"
   ]
  },
  {
   "cell_type": "code",
   "execution_count": 6,
   "id": "4d3b8cf5-715a-443f-bcab-0f91366b0d02",
   "metadata": {},
   "outputs": [
    {
     "data": {
      "image/png": "[encoded data removed]",
      "text/plain": [
       "<Figure size 640x480 with 1 Axes>"
      ]
     },
     "metadata": {},
     "output_type": "display_data"
    }
   ],
   "source": [
    "x = list(d.keys())\n",
    "y = list(d.values())\n",
    "\n",
    "plt.bar(x,y)\n",
    "plt.xlabel(\"Name of Students\")\n",
    "plt.ylabel(\"Marks of Students\")\n",
    "plt.title(\"Marks Distribution\")\n",
    "plt.show()"
   ]
  },
  {
   "cell_type": "markdown",
   "id": "89a2f721-772f-4778-b551-9c99458d2e3a",
   "metadata": {},
   "source": [
    "# Question 8"
   ]
  },
  {
   "cell_type": "code",
   "execution_count": 7,
   "id": "f7916e2e-44e4-46ef-b0b3-1ab2392b376f",
   "metadata": {},
   "outputs": [
    {
     "data": {
      "image/png": "[encoded data removed]",
      "text/plain": [
       "<Figure size 640x480 with 1 Axes>"
      ]
     },
     "metadata": {},
     "output_type": "display_data"
    }
   ],
   "source": [
    "l = []\n",
    "\n",
    "for i in range(1,11):\n",
    "    l.append((i,i**2))\n",
    "\n",
    "x , y = zip(*l)\n",
    "\n",
    "plt.scatter(x,y)\n",
    "plt.show()"
   ]
  },
  {
   "cell_type": "markdown",
   "id": "91de09d1-6924-4577-8724-7a9a1cd7dedd",
   "metadata": {},
   "source": [
    "# Question 9"
   ]
  },
  {
   "cell_type": "code",
   "execution_count": 8,
   "id": "1c10c48a-9b25-4881-a3a1-626b79e3c100",
   "metadata": {},
   "outputs": [
    {
     "name": "stdin",
     "output_type": "stream",
     "text": [
      " {'a': 10, 'b': 20}\n",
      " {'b': 5, 'c': 15}\n"
     ]
    },
    {
     "name": "stdout",
     "output_type": "stream",
     "text": [
      "{'a': 10, 'b': 25, 'c': 15}\n"
     ]
    }
   ],
   "source": [
    "dict1 = eval(input())\n",
    "dict2 = eval(input())\n",
    "dict3 = {}\n",
    "\n",
    "for i in dict1:\n",
    "    if i not in dict2:\n",
    "        dict3[i] = dict1[i]\n",
    "    else:\n",
    "        dict3[i] = dict1[i] + dict2[i]\n",
    "        \n",
    "for i in dict2:\n",
    "    if i not in dict1:\n",
    "        dict3[i] = dict2[i]\n",
    "\n",
    "print(dict3)"
   ]
  },
  {
   "cell_type": "markdown",
   "id": "11ed1a5e-7dab-4edb-965c-b00cdb41cacd",
   "metadata": {},
   "source": [
    "# Question 10"
   ]
  },
  {
   "cell_type": "code",
   "execution_count": 11,
   "id": "85069098-48ff-4bd0-8c9d-ddbc48ace82a",
   "metadata": {},
   "outputs": [
    {
     "name": "stdin",
     "output_type": "stream",
     "text": [
      " Hello World\n"
     ]
    },
    {
     "data": {
      "image/png": "[encoded data removed]",
      "text/plain": [
       "<Figure size 640x480 with 1 Axes>"
      ]
     },
     "metadata": {},
     "output_type": "display_data"
    },
    {
     "data": {
      "text/plain": [
       "{'h': 1, 'e': 1, 'l': 3, 'o': 2, 'w': 1, 'r': 1, 'd': 1}"
      ]
     },
     "execution_count": 11,
     "metadata": {},
     "output_type": "execute_result"
    }
   ],
   "source": [
    "def char_freq(s):\n",
    "    l = [\" \", \",\", \".\"]\n",
    "\n",
    "    s1 = s.lower()\n",
    "\n",
    "    dict = {}\n",
    " \n",
    "    for i in s1:\n",
    "        if i not in l:\n",
    "            if i in dict:\n",
    "                dict[i] += 1\n",
    "            else:\n",
    "                dict[i] = 1\n",
    "\n",
    "\n",
    "    x = list(dict.keys())\n",
    "    y = list(dict.values())\n",
    "\n",
    "    plt.bar(x,y)\n",
    "    plt.xlabel(\"Character\")\n",
    "    plt.ylabel(\"Frequency\")\n",
    "    plt.title(\"Character-Frequency\")\n",
    "    plt.show()\n",
    "    \n",
    "    return dict\n",
    "s = input()\n",
    "char_freq(s)"
   ]
  },
  {
   "cell_type": "markdown",
   "id": "483b3908-896d-4476-921e-824c85a62adc",
   "metadata": {},
   "source": [
    "# Question 11"
   ]
  },
  {
   "cell_type": "code",
   "execution_count": 12,
   "id": "dcd8550d-fe37-4ea4-82bf-8034128b445b",
   "metadata": {},
   "outputs": [
    {
     "name": "stdin",
     "output_type": "stream",
     "text": [
      " [1, 2, 2, 3, 4, 4, 5]\n"
     ]
    },
    {
     "name": "stdout",
     "output_type": "stream",
     "text": [
      "[1, 2, 3, 4, 5]\n",
      "3\n",
      "3\n"
     ]
    }
   ],
   "source": [
    "import statistics\n",
    "\n",
    "l = eval(input())\n",
    "u_l = []\n",
    "\n",
    "for i in l:\n",
    "    if i not in u_l:\n",
    "        u_l.append(i)\n",
    "\n",
    "print(u_l)\n",
    "\n",
    "mean = statistics.mean(u_l)\n",
    "print(mean)\n",
    "\n",
    "median = statistics.median(u_l)\n",
    "print(median)"
   ]
  },
  {
   "cell_type": "markdown",
   "id": "7069ab51-3019-4265-a3cb-a4d1d3ea8391",
   "metadata": {},
   "source": [
    "# Question 12"
   ]
  },
  {
   "cell_type": "code",
   "execution_count": 15,
   "id": "7817fbde-c3f0-4994-b640-c6ad361fcedd",
   "metadata": {},
   "outputs": [
    {
     "name": "stdin",
     "output_type": "stream",
     "text": [
      " ['apple', 'orange', 'banana', 'kiwi', 'grape', 'pear', 'avocado']\n"
     ]
    },
    {
     "name": "stdout",
     "output_type": "stream",
     "text": [
      "avocado\n",
      "3\n"
     ]
    },
    {
     "data": {
      "image/png": "[encoded data removed]",
      "text/plain": [
       "<Figure size 640x480 with 1 Axes>"
      ]
     },
     "metadata": {},
     "output_type": "display_data"
    }
   ],
   "source": [
    "import matplotlib.pyplot as plt\n",
    "def string_length(l):\n",
    "    maxlen = 0 \n",
    "    longstring = \"\"\n",
    "    for i in l:\n",
    "        if len(i)>maxlen:\n",
    "            maxlen = len(i)\n",
    "            longstring = i\n",
    "    print(longstring)\n",
    "\n",
    "    vowels = ['a','e','i','o','u']\n",
    "    count = 0\n",
    "    for i in l:\n",
    "        if i[0].lower() in vowels:\n",
    "            count+=1\n",
    "    print(count)\n",
    "\n",
    "    s_l = []\n",
    "    for i in l:\n",
    "        s_l.append(len(i))\n",
    "\n",
    "    plt.hist(s_l)\n",
    "    plt.xlabel(\"String length\")\n",
    "    plt.ylabel(\"Frequency\")\n",
    "    plt.title(\"Distribution of string lengths\")\n",
    "    plt.show()\n",
    "\n",
    "l = eval(input())\n",
    "string_length(l)"
   ]
  },
  {
   "cell_type": "markdown",
   "id": "ca7a2c90-de41-470c-adf0-58fdb7876b28",
   "metadata": {},
   "source": [
    "# Question 13"
   ]
  },
  {
   "cell_type": "code",
   "execution_count": 4,
   "id": "f3a30e84-4e45-43ce-8b1d-2db4b889a8bd",
   "metadata": {},
   "outputs": [
    {
     "name": "stdin",
     "output_type": "stream",
     "text": [
      " [{'name': 'Alice', 'age': 25}, {'name': 'Bob', 'age': 22}]\n",
      " age\n"
     ]
    },
    {
     "name": "stdout",
     "output_type": "stream",
     "text": [
      "[{'name': 'Bob', 'age': 22}, {'name': 'Alice', 'age': 25}]\n"
     ]
    }
   ],
   "source": [
    "l = eval(input())\n",
    "key = input()\n",
    "l.sort(key=lambda y:y[key])\n",
    "print(l)"
   ]
  },
  {
   "cell_type": "markdown",
   "id": "5f2c9938-f62c-46c8-b127-110bb2ce96ca",
   "metadata": {},
   "source": [
    "# Question 14"
   ]
  },
  {
   "cell_type": "code",
   "execution_count": 5,
   "id": "d6d53aeb-09c9-41c5-8a1f-e281945b657f",
   "metadata": {},
   "outputs": [
    {
     "name": "stdin",
     "output_type": "stream",
     "text": [
      " This is an example of bar chart\n"
     ]
    },
    {
     "name": "stdout",
     "output_type": "stream",
     "text": [
      "['This', 'is', 'an', 'example', 'of', 'bar', 'chart']\n",
      "['This', 'chart', 'example']\n"
     ]
    },
    {
     "data": {
      "image/png": "[encoded data removed]",
      "text/plain": [
       "<Figure size 640x480 with 1 Axes>"
      ]
     },
     "metadata": {},
     "output_type": "display_data"
    }
   ],
   "source": [
    "import matplotlib.pyplot as plt\n",
    "\n",
    "s = input()\n",
    "l = list(s.split(\" \"))\n",
    "print(l)\n",
    "\n",
    "x = []\n",
    "for i in l:\n",
    "    if len(i)>=4:\n",
    "        x.append(i)\n",
    "        \n",
    "x.sort()\n",
    "print(x)\n",
    "\n",
    "y = []\n",
    "for i in x:\n",
    "    y.append(len(i))\n",
    "\n",
    "plt.bar(x,y)\n",
    "plt.xlabel(\"Words\")\n",
    "plt.ylabel(\"Word lengths\")\n",
    "plt.show()"
   ]
  },
  {
   "cell_type": "markdown",
   "id": "c368012e-2160-42e4-8960-14ab13dc9b02",
   "metadata": {},
   "source": [
    "# Question 15"
   ]
  },
  {
   "cell_type": "code",
   "execution_count": 6,
   "id": "2b2e1f73-9971-43d7-b1b0-06d352fef6d1",
   "metadata": {},
   "outputs": [
    {
     "name": "stdin",
     "output_type": "stream",
     "text": [
      " listen\n",
      " [\"enlist\", \"google\", \"inlets\", \"banana\"]\n"
     ]
    },
    {
     "name": "stdout",
     "output_type": "stream",
     "text": [
      "['enlist', 'inlets']\n"
     ]
    }
   ],
   "source": [
    "word = input()\n",
    "list = eval(input())\n",
    "\n",
    "x= []\n",
    "for i in list:\n",
    "    if len(i) == len(word):\n",
    "        for j in i:\n",
    "            if j in word and i.count(j) == word.count(j):\n",
    "                pass\n",
    "            else:\n",
    "                break\n",
    "        else:\n",
    "            x.append(i)\n",
    "print(x)"
   ]
  },
  {
   "cell_type": "markdown",
   "id": "fbd5712b-8b12-490a-8b17-c71cad6d78f8",
   "metadata": {},
   "source": [
    "# Question 16"
   ]
  },
  {
   "cell_type": "code",
   "execution_count": 6,
   "id": "38effe55-f77a-4da6-bc5d-3acaca34da02",
   "metadata": {},
   "outputs": [
    {
     "name": "stdin",
     "output_type": "stream",
     "text": [
      " [1,2,3,4]\n",
      " [3,4,5,6]\n"
     ]
    },
    {
     "name": "stdout",
     "output_type": "stream",
     "text": [
      "{3, 4}\n",
      "{1, 2, 3, 4, 5, 6}\n",
      "{1, 2, 5, 6}\n"
     ]
    },
    {
     "data": {
      "image/png": "[encoded data removed]",
      "text/plain": [
       "<Figure size 640x480 with 1 Axes>"
      ]
     },
     "metadata": {},
     "output_type": "display_data"
    }
   ],
   "source": [
    "from matplotlib_venn import venn2\n",
    "import matplotlib.pyplot as plt\n",
    "\n",
    "set1 = set(eval(input()))\n",
    "set2 = set(eval(input()))\n",
    "\n",
    "intersection = set1.intersection(set2)\n",
    "print(intersection)\n",
    "\n",
    "union = set1.union(set2)\n",
    "print(union)\n",
    "\n",
    "symm_diff = set1.symmetric_difference(set2)\n",
    "print(symm_diff)\n",
    "\n",
    "venn2((set1,set2), set_labels = ['Set1','Set2'])\n",
    "plt.title(\"Venn Diagram\")\n",
    "plt.show()"
   ]
  },
  {
   "cell_type": "markdown",
   "id": "51506313-4b9e-4191-ab88-7cdf2693274f",
   "metadata": {},
   "source": [
    "# Question 17"
   ]
  },
  {
   "cell_type": "code",
   "execution_count": 7,
   "id": "dd07c163-0e0e-43bb-8e11-fb537d849ee3",
   "metadata": {},
   "outputs": [
    {
     "name": "stdin",
     "output_type": "stream",
     "text": [
      " 10\n",
      " 20\n",
      " 30\n",
      " 40\n",
      " 50\n",
      " 60\n",
      " 70\n",
      " 80\n",
      " 90\n",
      " 100\n"
     ]
    },
    {
     "name": "stdout",
     "output_type": "stream",
     "text": [
      "550\n"
     ]
    }
   ],
   "source": [
    "f = open(\"newfile.txt\",'w')\n",
    "f.write(f\"{int(input())}\\n\")\n",
    "f.close()\n",
    "\n",
    "i = 1\n",
    "while i<10:\n",
    "    f = open(\"newfile.txt\",'a')\n",
    "    f.write(f\"{int(input())}\\n\")\n",
    "    f.close()\n",
    "    i+=1\n",
    "\n",
    "sum = 0\n",
    "f = open(\"newfile.txt\",'r')\n",
    "for line in f.readlines():\n",
    "    \n",
    "    sum +=  int(line.strip())\n",
    "\n",
    "print(sum)"
   ]
  },
  {
   "cell_type": "markdown",
   "id": "da8b05db-9087-4ce1-ba51-508d19b56a92",
   "metadata": {},
   "source": [
    "# Question 18"
   ]
  },
  {
   "cell_type": "code",
   "execution_count": 13,
   "id": "3fab9ab4-936c-41c6-8181-8ae024e1b72f",
   "metadata": {},
   "outputs": [
    {
     "name": "stdout",
     "output_type": "stream",
     "text": [
      "['Python', 'is', 'better', 'than', 'Java', 'But', 'C++', 'is', 'better', 'than', 'Python', 'than', 'c??', '']\n",
      "14\n",
      "than\n"
     ]
    },
    {
     "data": {
      "image/png": "[encoded data removed]",
      "text/plain": [
       "<Figure size 640x480 with 1 Axes>"
      ]
     },
     "metadata": {},
     "output_type": "display_data"
    }
   ],
   "source": [
    "import matplotlib.pyplot as plt\n",
    "\n",
    "f = open(\"File.txt\",'r')\n",
    "\n",
    "l1 = []\n",
    "count = 0\n",
    "for line in f.readlines():\n",
    "    line1 = line.strip()\n",
    "    words = line1.split(\" \")\n",
    "    count += len(words)\n",
    "    l1 += words\n",
    "print(l1)\n",
    "print(count)\n",
    "\n",
    "d = {}\n",
    "s = set(l1)\n",
    "\n",
    "for i in s:\n",
    "    d[i] = l1.count(i)\n",
    "\n",
    "max = 0\n",
    "freq_word = \"\"\n",
    "\n",
    "for i in d:\n",
    "    if d[i]>max:\n",
    "        max = d[i]\n",
    "        freq_word = i\n",
    "        \n",
    "print(freq_word)\n",
    "\n",
    "x = list(d.keys())\n",
    "y = list(d.values())\n",
    "\n",
    "plt.bar(x,y)\n",
    "plt.xlabel(\"Words\")\n",
    "plt.ylabel(\"Frequency\")\n",
    "plt.show()"
   ]
  },
  {
   "cell_type": "markdown",
   "id": "03e48d37-e2ea-4328-8f5f-8a13d49819f5",
   "metadata": {},
   "source": [
    "# Question 19"
   ]
  },
  {
   "cell_type": "code",
   "execution_count": 46,
   "id": "d62fa628-55dc-4e3e-943b-e6f1721b6e54",
   "metadata": {},
   "outputs": [
    {
     "name": "stdout",
     "output_type": "stream",
     "text": [
      "[41, 17, 23, 35, 15, 37, 30, 20, 48, 33, 41, 26, 36, 11, 49, 40, 17, 35, 7, 9, 7, 38, 34, 15, 30, 5, 41, 12, 18, 9, 39, 26, 23, 15, 45, 23, 10, 26, 28, 49, 43, 26, 8, 2, 44, 6, 41, 15, 18, 45, 47, 34, 43, 42, 46, 20, 14, 7, 45, 9, 9, 7, 50, 8, 43, 9, 14, 28, 50, 32, 30, 18, 10, 40, 24, 23, 13, 5, 33, 1, 46, 15, 41, 28, 47, 26, 24, 33, 13, 1, 13, 30, 34, 46, 41, 45, 18, 50, 29, 50]\n"
     ]
    }
   ],
   "source": [
    "import random\n",
    "\n",
    "x = [random.randint(1,50) for _ in range(100)]\n",
    "print(x)"
   ]
  },
  {
   "cell_type": "code",
   "execution_count": 51,
   "id": "b0634e49-8dfa-477a-8e58-2b6d61b748c0",
   "metadata": {},
   "outputs": [
    {
     "name": "stdout",
     "output_type": "stream",
     "text": [
      "Mean is 26.95\n"
     ]
    },
    {
     "data": {
      "image/png": "[encoded data removed]",
      "text/plain": [
       "<Figure size 640x480 with 1 Axes>"
      ]
     },
     "metadata": {},
     "output_type": "display_data"
    }
   ],
   "source": [
    "import matplotlib.pyplot as plt\n",
    "\n",
    "for i in x:\n",
    "    f = open(\"File.txt\",'a')\n",
    "    f.write(f\"{i}\\n\")\n",
    "    f.close()\n",
    "f = open(\"File.txt\",'r')\n",
    "\n",
    "sum = 0\n",
    "for i in f.readlines():\n",
    "    i1 = i.strip()\n",
    "    sum+=int(i1)\n",
    "\n",
    "print(f\"Mean is {sum/100}\")\n",
    "\n",
    "plt.hist(x)\n",
    "plt.show()    "
   ]
  },
  {
   "cell_type": "markdown",
   "id": "e8529244-917a-4861-aa22-588e0cc6791a",
   "metadata": {},
   "source": [
    "# Question 20"
   ]
  },
  {
   "cell_type": "code",
   "execution_count": 54,
   "id": "4eb19abc-75f4-4fe2-a8f6-4ce6d432c606",
   "metadata": {},
   "outputs": [
    {
     "name": "stdout",
     "output_type": "stream",
     "text": [
      "   trainno  speed       city\n",
      "0    12984     97      SURAT\n",
      "1    19282     94  RAJASTHAN\n",
      "2    12289     95      SURAT\n",
      "3    12291     92     RAJKOT\n"
     ]
    }
   ],
   "source": [
    "import pandas as pd\n",
    "data = pd.read_csv(\"Info_trains.csv\")\n",
    "print(data)"
   ]
  },
  {
   "cell_type": "code",
   "execution_count": 61,
   "id": "614261aa-0d39-45f3-98ae-9c5e71806462",
   "metadata": {},
   "outputs": [
    {
     "name": "stdout",
     "output_type": "stream",
     "text": [
      "[97, 94, 95, 92]\n",
      "378\n"
     ]
    }
   ],
   "source": [
    "l = list(data['speed'])\n",
    "print(l)\n",
    "\n",
    "sum=0\n",
    "for i in l:\n",
    "    sum += i\n",
    "print(sum)"
   ]
  },
  {
   "cell_type": "code",
   "execution_count": 63,
   "id": "c43b8af0-ca09-489b-b0d1-b1caf9021205",
   "metadata": {},
   "outputs": [
    {
     "data": {
      "image/png": "[encoded data removed]",
      "text/plain": [
       "<Figure size 640x480 with 1 Axes>"
      ]
     },
     "metadata": {},
     "output_type": "display_data"
    }
   ],
   "source": [
    "import matplotlib.pyplot as plt\n",
    "\n",
    "z = list(data['trainno'])\n",
    "\n",
    "k = []\n",
    "for i in z:\n",
    "    k.append(str(i))\n",
    "    \n",
    "plt.plot(k,l)\n",
    "plt.xlabel(\"Train Number\")\n",
    "plt.ylabel(\"Speed\")\n",
    "plt.title(\"Speed of Trains\")\n",
    "plt.show()"
   ]
  },
  {
   "cell_type": "markdown",
   "id": "01ef323c-ab73-4480-8a6c-ab3657f25894",
   "metadata": {},
   "source": [
    "# Question 21"
   ]
  },
  {
   "cell_type": "code",
   "execution_count": 66,
   "id": "2d36f519-38a9-4241-954e-36c065c5839b",
   "metadata": {},
   "outputs": [
    {
     "name": "stdout",
     "output_type": "stream",
     "text": [
      "Mean 42.72727272727273\n",
      "Median 30\n",
      "Mode 30\n",
      "Standard Deviation 30.68905638526838\n"
     ]
    },
    {
     "data": {
      "image/png": "[encoded data removed]",
      "text/plain": [
       "<Figure size 640x480 with 1 Axes>"
      ]
     },
     "metadata": {},
     "output_type": "display_data"
    }
   ],
   "source": [
    "import statistics as st\n",
    "import matplotlib.pyplot as plt \n",
    "\n",
    "l = [10,20,30,40,30,50,50,20,30,70,120]\n",
    "\n",
    "mean = st.mean(l)\n",
    "print(f\"Mean {mean}\")\n",
    "\n",
    "median = st.median(l)\n",
    "print(f\"Median {median}\")\n",
    "\n",
    "mode = st.mode(l)\n",
    "print(f\"Mode {mode}\")\n",
    "\n",
    "sd = st.stdev(l)\n",
    "print(f\"Standard Deviation {sd}\")\n",
    "\n",
    "plt.boxplot(l)\n",
    "plt.show()"
   ]
  },
  {
   "cell_type": "markdown",
   "id": "b1987c87-87f5-4e1a-91bb-4159c3a0e927",
   "metadata": {},
   "source": [
    "# Question 22"
   ]
  },
  {
   "cell_type": "code",
   "execution_count": 3,
   "id": "bb889464-7f69-49dc-a826-3a42b735de2f",
   "metadata": {},
   "outputs": [
    {
     "name": "stdout",
     "output_type": "stream",
     "text": [
      "[0.04054054054054054, 0.24324324324324326, 1.0, 0.25675675675675674, 0.44594594594594594, 0.0]\n"
     ]
    },
    {
     "data": {
      "image/png": "[encoded data removed]",
      "text/plain": [
       "<Figure size 640x480 with 1 Axes>"
      ]
     },
     "metadata": {},
     "output_type": "display_data"
    }
   ],
   "source": [
    "import matplotlib.pyplot as plt\n",
    "\n",
    "\n",
    "def normalisation(l):\n",
    "    n_l = []\n",
    "    for i in l:\n",
    "        i1 = (i-min(l))/(max(l)-min(l))\n",
    "        n_l.append(i1)\n",
    "    return n_l\n",
    "    \n",
    "l = [23,38,94,39,53,20]\n",
    "y = normalisation(l)\n",
    "print(y)\n",
    "plt.plot(range(len(l)),y)\n",
    "plt.show()"
   ]
  },
  {
   "cell_type": "markdown",
   "id": "8b27b091-e3d4-4d62-9651-87b4fc35d8e5",
   "metadata": {},
   "source": [
    "# Question 23"
   ]
  },
  {
   "cell_type": "code",
   "execution_count": 4,
   "id": "b3a59a4a-b78e-4c13-91a1-613c99690efd",
   "metadata": {},
   "outputs": [
    {
     "name": "stdin",
     "output_type": "stream",
     "text": [
      " 23\n"
     ]
    },
    {
     "name": "stdout",
     "output_type": "stream",
     "text": [
      "Odd\n"
     ]
    }
   ],
   "source": [
    "n = int(input())\n",
    "if n%2 == 0:\n",
    "    print(\"Even\")\n",
    "else:\n",
    "    print(\"Odd\")"
   ]
  },
  {
   "cell_type": "markdown",
   "id": "959855a3-28ef-4005-a58d-ed8ef6b44800",
   "metadata": {},
   "source": [
    "# Question 24"
   ]
  },
  {
   "cell_type": "code",
   "execution_count": 5,
   "id": "4820b92f-31c2-4db1-8fb9-f22e001567a2",
   "metadata": {},
   "outputs": [
    {
     "name": "stdin",
     "output_type": "stream",
     "text": [
      " 59\n"
     ]
    },
    {
     "name": "stdout",
     "output_type": "stream",
     "text": [
      "D\n"
     ]
    }
   ],
   "source": [
    "n = int(input())\n",
    "\n",
    "if n>95 and n<=100:\n",
    "    print(\"A\")\n",
    "elif n>85 and n<=95:\n",
    "    print(\"B\")\n",
    "elif n>70 and n<=85:\n",
    "    print(\"C\")\n",
    "elif n>50 and n<=70:\n",
    "    print(\"D\")\n",
    "else:\n",
    "    print(\"F\")\n"
   ]
  },
  {
   "cell_type": "markdown",
   "id": "d4479467-c40f-48a7-85cc-c25f5c922552",
   "metadata": {},
   "source": [
    "# Question 25"
   ]
  },
  {
   "cell_type": "code",
   "execution_count": 6,
   "id": "964d782b-97f1-4063-876f-8139dad2024a",
   "metadata": {},
   "outputs": [
    {
     "name": "stdin",
     "output_type": "stream",
     "text": [
      " 2024\n"
     ]
    },
    {
     "name": "stdout",
     "output_type": "stream",
     "text": [
      "It's a Leap Year\n"
     ]
    }
   ],
   "source": [
    "year = int(input())\n",
    "\n",
    "if (year%100 != 0 and year%4 == 0) or (year%400 ==0):\n",
    "    print(\"It's a Leap Year\")\n",
    "else:\n",
    "    print(\"It is not a leap year\")\n",
    "    "
   ]
  }
 ],
 "metadata": {
  "kernelspec": {
   "display_name": "Python 3 (ipykernel)",
   "language": "python",
   "name": "python3"
  },
  "language_info": {
   "codemirror_mode": {
    "name": "ipython",
    "version": 3
   },
   "file_extension": ".py",
   "mimetype": "text/x-python",
   "name": "python",
   "nbconvert_exporter": "python",
   "pygments_lexer": "ipython3",
   "version": "3.12.6"
  }
 },
 "nbformat": 4,
 "nbformat_minor": 5
}

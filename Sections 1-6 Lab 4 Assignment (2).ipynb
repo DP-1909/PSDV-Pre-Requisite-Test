{
 "cells": [
  {
   "cell_type": "markdown",
   "id": "8f956ceb-6b35-404c-a548-47e55dbec34e",
   "metadata": {},
   "source": [
    "# 1. Random Variables"
   ]
  },
  {
   "cell_type": "markdown",
   "id": "716a34ac-28fb-494e-9c26-e9b3c7b86c90",
   "metadata": {},
   "source": [
    "# Q1. (Mandatory)\n"
   ]
  },
  {
   "cell_type": "code",
   "execution_count": 2,
   "id": "e6559ccc-83c5-4440-8cb3-9c5aeaac3a9b",
   "metadata": {},
   "outputs": [
    {
     "name": "stdout",
     "output_type": "stream",
     "text": [
      "Experimental probability of sum 7: 0.166\n",
      "Experimental probability of sum 2 or 12: 0.056\n",
      " \n",
      "Theoretical probability of sum 7: 6/36 = 0.167\n",
      "Theoretical probability of sum 2 or 12: 2/36 = 0.056\n"
     ]
    }
   ],
   "source": [
    "import torch\n",
    "from torch.distributions import Categorical\n",
    "\n",
    "dice = Categorical(torch.ones(6) / 6)\n",
    "\n",
    "def roll_dice():\n",
    "    a = dice.sample().item() + 1\n",
    "    b = dice.sample().item() + 1\n",
    "    return a + b\n",
    "\n",
    "def simulate_rolls(n=10000):\n",
    "    count_7 = 0\n",
    "    count_2_or_12 = 0\n",
    "    for _ in range(n):\n",
    "        r = roll_dice()\n",
    "        if r == 7:\n",
    "            count_7 += 1\n",
    "        if r == 2 or r == 12:\n",
    "            count_2_or_12 += 1\n",
    "    p1 = count_7 / n\n",
    "    p2 = count_2_or_12 / n\n",
    "    \n",
    "    print(\"Experimental probability of sum 7:\", round(p1, 3))\n",
    "    print(\"Experimental probability of sum 2 or 12:\", round(p2, 3))\n",
    "    print(\" \")\n",
    "    print(\"Theoretical probability of sum 7: 6/36 = 0.167\")\n",
    "    print(\"Theoretical probability of sum 2 or 12: 2/36 = 0.056\")\n",
    "\n",
    "simulate_rolls()"
   ]
  },
  {
   "cell_type": "markdown",
   "id": "e7a178d9-966b-4460-8bc3-89daccb864a5",
   "metadata": {},
   "source": [
    "# Q2. (Optional)"
   ]
  },
  {
   "cell_type": "code",
   "execution_count": 3,
   "id": "a0f09ed4-9347-47aa-9fda-33e4d3575b7a",
   "metadata": {},
   "outputs": [
    {
     "name": "stdout",
     "output_type": "stream",
     "text": [
      "Coin tosses: ['T', 'T', 'H', 'H', 'H', 'H', 'H', 'T', 'H', 'H']\n",
      "Number of heads: 7\n"
     ]
    }
   ],
   "source": [
    "import torch\n",
    "from torch.distributions import Bernoulli\n",
    "\n",
    "coin = Bernoulli(probs=0.5)\n",
    "\n",
    "def coin_toss(n):\n",
    "    flips = []\n",
    "    for _ in range(n):\n",
    "        toss = int(coin.sample().item())\n",
    "        if toss == 1:\n",
    "            flips.append('H')\n",
    "        else:\n",
    "            flips.append('T')\n",
    "    return flips\n",
    "\n",
    "def count_heads(flips):\n",
    "    count = 0\n",
    "    for i in flips:\n",
    "        if i == 'H':\n",
    "            count += 1\n",
    "    return count\n",
    "\n",
    "tosses = coin_toss(10)\n",
    "num_heads = count_heads(tosses)\n",
    "\n",
    "print(\"Coin tosses:\", tosses)\n",
    "print(\"Number of heads:\", num_heads)"
   ]
  },
  {
   "cell_type": "markdown",
   "id": "e326b34f-15cc-4ec9-a4b4-3b93e6a8b4b8",
   "metadata": {},
   "source": [
    "# Q3. (Optional)"
   ]
  },
  {
   "cell_type": "code",
   "execution_count": 4,
   "id": "6b9b7a1e-47c2-472b-9660-61afd80b03f1",
   "metadata": {},
   "outputs": [
    {
     "name": "stdout",
     "output_type": "stream",
     "text": [
      "Coin tosses: ['H', 'T', 'T', 'T']\n",
      "Number of heads: 1\n",
      "X(ξ) = 2 is False\n"
     ]
    }
   ],
   "source": [
    "import torch\n",
    "from torch.distributions import Bernoulli\n",
    "\n",
    "coin = Bernoulli(probs=0.5)\n",
    "\n",
    "def coin_toss(n):\n",
    "    flips = []\n",
    "    for _ in range(n):\n",
    "        toss = int(coin.sample().item())\n",
    "        if toss == 1:\n",
    "            flips.append('H')\n",
    "        else:\n",
    "            flips.append('T')\n",
    "    return flips\n",
    "\n",
    "def count_heads(flips):\n",
    "    count = 0\n",
    "    for i in flips:\n",
    "        if i == 'H':\n",
    "            count += 1\n",
    "    return count\n",
    "\n",
    "flips = coin_toss(4)\n",
    "num_heads_4 = count_heads(flips)\n",
    "\n",
    "print(\"Coin tosses:\", flips)\n",
    "print(\"Number of heads:\", num_heads_4)\n",
    "\n",
    "def check_inverse_mapping(flips, a):\n",
    "    if count_heads(flips) == a:\n",
    "        print(f\"X(ξ) = {a} is True\")\n",
    "    else:\n",
    "        print(f\"X(ξ) = {a} is False\")\n",
    "\n",
    "check_inverse_mapping(flips, 2)"
   ]
  },
  {
   "cell_type": "markdown",
   "id": "b0e37169-3090-4f6e-aa35-be0dec6bff58",
   "metadata": {},
   "source": [
    "# 2. Probalility Mass function"
   ]
  },
  {
   "cell_type": "markdown",
   "id": "b3b95645-b369-40d3-a5e8-933886ce8ccd",
   "metadata": {},
   "source": [
    "# Q1. (Mandatory)"
   ]
  },
  {
   "cell_type": "code",
   "execution_count": 5,
   "id": "aa5a594c-3263-4d9b-a120-c64c2d56cbb5",
   "metadata": {},
   "outputs": [
    {
     "name": "stdout",
     "output_type": "stream",
     "text": [
      "The function is a valid PMF with c = 0.067\n"
     ]
    },
    {
     "data": {
      "text/plain": [
       "0.067"
      ]
     },
     "execution_count": 5,
     "metadata": {},
     "output_type": "execute_result"
    }
   ],
   "source": [
    "import torch\n",
    "\n",
    "def is_valid_pmf():\n",
    "    x = torch.tensor([1, 2, 3, 4, 5], dtype=torch.float)\n",
    "    fx = x**2 - 6*x + 10\n",
    "    if torch.all(fx >= 0):\n",
    "        total = fx.sum()\n",
    "        c = 1 / total\n",
    "        prob_sum = (c * fx).sum()\n",
    "        if round(prob_sum.item(), 3) == 1.0:\n",
    "            print(\"The function is a valid PMF with c =\", round(c.item(), 3))\n",
    "            return round(c.item(), 3)\n",
    "        else:\n",
    "            print(\"Sum of probabilities is\", round(prob_sum.item(), 3), \"which is not equal to 1.\")\n",
    "            return None\n",
    "    else:\n",
    "        print(\"Function has negative values. Not a valid PMF.\")\n",
    "        return None\n",
    "\n",
    "is_valid_pmf()"
   ]
  },
  {
   "cell_type": "markdown",
   "id": "1fd3a2ba-6f99-4918-a413-e6833aba7835",
   "metadata": {},
   "source": [
    "# Q2. (Optional) "
   ]
  },
  {
   "cell_type": "code",
   "execution_count": 2,
   "id": "5ffc6aa2-6f56-4ec7-a3c9-c75a281f39be",
   "metadata": {},
   "outputs": [
    {
     "data": {
      "text/html": [
       "<div>\n",
       "<style scoped>\n",
       "    .dataframe tbody tr th:only-of-type {\n",
       "        vertical-align: middle;\n",
       "    }\n",
       "\n",
       "    .dataframe tbody tr th {\n",
       "        vertical-align: top;\n",
       "    }\n",
       "\n",
       "    .dataframe thead th {\n",
       "        text-align: right;\n",
       "    }\n",
       "</style>\n",
       "<table border=\"1\" class=\"dataframe\">\n",
       "  <thead>\n",
       "    <tr style=\"text-align: right;\">\n",
       "      <th></th>\n",
       "      <th>Number of Heads</th>\n",
       "      <th>Probability</th>\n",
       "    </tr>\n",
       "  </thead>\n",
       "  <tbody>\n",
       "    <tr>\n",
       "      <th>0</th>\n",
       "      <td>35 Heads</td>\n",
       "      <td>0.001</td>\n",
       "    </tr>\n",
       "    <tr>\n",
       "      <th>1</th>\n",
       "      <td>37 Heads</td>\n",
       "      <td>0.003</td>\n",
       "    </tr>\n",
       "    <tr>\n",
       "      <th>2</th>\n",
       "      <td>38 Heads</td>\n",
       "      <td>0.002</td>\n",
       "    </tr>\n",
       "    <tr>\n",
       "      <th>3</th>\n",
       "      <td>39 Heads</td>\n",
       "      <td>0.010</td>\n",
       "    </tr>\n",
       "    <tr>\n",
       "      <th>4</th>\n",
       "      <td>40 Heads</td>\n",
       "      <td>0.011</td>\n",
       "    </tr>\n",
       "    <tr>\n",
       "      <th>5</th>\n",
       "      <td>41 Heads</td>\n",
       "      <td>0.018</td>\n",
       "    </tr>\n",
       "    <tr>\n",
       "      <th>6</th>\n",
       "      <td>42 Heads</td>\n",
       "      <td>0.017</td>\n",
       "    </tr>\n",
       "    <tr>\n",
       "      <th>7</th>\n",
       "      <td>43 Heads</td>\n",
       "      <td>0.034</td>\n",
       "    </tr>\n",
       "    <tr>\n",
       "      <th>8</th>\n",
       "      <td>44 Heads</td>\n",
       "      <td>0.033</td>\n",
       "    </tr>\n",
       "    <tr>\n",
       "      <th>9</th>\n",
       "      <td>45 Heads</td>\n",
       "      <td>0.046</td>\n",
       "    </tr>\n",
       "    <tr>\n",
       "      <th>10</th>\n",
       "      <td>46 Heads</td>\n",
       "      <td>0.079</td>\n",
       "    </tr>\n",
       "    <tr>\n",
       "      <th>11</th>\n",
       "      <td>47 Heads</td>\n",
       "      <td>0.060</td>\n",
       "    </tr>\n",
       "    <tr>\n",
       "      <th>12</th>\n",
       "      <td>48 Heads</td>\n",
       "      <td>0.076</td>\n",
       "    </tr>\n",
       "    <tr>\n",
       "      <th>13</th>\n",
       "      <td>49 Heads</td>\n",
       "      <td>0.077</td>\n",
       "    </tr>\n",
       "    <tr>\n",
       "      <th>14</th>\n",
       "      <td>50 Heads</td>\n",
       "      <td>0.083</td>\n",
       "    </tr>\n",
       "    <tr>\n",
       "      <th>15</th>\n",
       "      <td>51 Heads</td>\n",
       "      <td>0.081</td>\n",
       "    </tr>\n",
       "    <tr>\n",
       "      <th>16</th>\n",
       "      <td>52 Heads</td>\n",
       "      <td>0.073</td>\n",
       "    </tr>\n",
       "    <tr>\n",
       "      <th>17</th>\n",
       "      <td>53 Heads</td>\n",
       "      <td>0.079</td>\n",
       "    </tr>\n",
       "    <tr>\n",
       "      <th>18</th>\n",
       "      <td>54 Heads</td>\n",
       "      <td>0.056</td>\n",
       "    </tr>\n",
       "    <tr>\n",
       "      <th>19</th>\n",
       "      <td>55 Heads</td>\n",
       "      <td>0.045</td>\n",
       "    </tr>\n",
       "    <tr>\n",
       "      <th>20</th>\n",
       "      <td>56 Heads</td>\n",
       "      <td>0.041</td>\n",
       "    </tr>\n",
       "    <tr>\n",
       "      <th>21</th>\n",
       "      <td>57 Heads</td>\n",
       "      <td>0.023</td>\n",
       "    </tr>\n",
       "    <tr>\n",
       "      <th>22</th>\n",
       "      <td>58 Heads</td>\n",
       "      <td>0.016</td>\n",
       "    </tr>\n",
       "    <tr>\n",
       "      <th>23</th>\n",
       "      <td>59 Heads</td>\n",
       "      <td>0.008</td>\n",
       "    </tr>\n",
       "    <tr>\n",
       "      <th>24</th>\n",
       "      <td>60 Heads</td>\n",
       "      <td>0.009</td>\n",
       "    </tr>\n",
       "    <tr>\n",
       "      <th>25</th>\n",
       "      <td>61 Heads</td>\n",
       "      <td>0.006</td>\n",
       "    </tr>\n",
       "    <tr>\n",
       "      <th>26</th>\n",
       "      <td>62 Heads</td>\n",
       "      <td>0.006</td>\n",
       "    </tr>\n",
       "    <tr>\n",
       "      <th>27</th>\n",
       "      <td>63 Heads</td>\n",
       "      <td>0.003</td>\n",
       "    </tr>\n",
       "    <tr>\n",
       "      <th>28</th>\n",
       "      <td>64 Heads</td>\n",
       "      <td>0.004</td>\n",
       "    </tr>\n",
       "  </tbody>\n",
       "</table>\n",
       "</div>"
      ],
      "text/plain": [
       "   Number of Heads  Probability\n",
       "0         35 Heads        0.001\n",
       "1         37 Heads        0.003\n",
       "2         38 Heads        0.002\n",
       "3         39 Heads        0.010\n",
       "4         40 Heads        0.011\n",
       "5         41 Heads        0.018\n",
       "6         42 Heads        0.017\n",
       "7         43 Heads        0.034\n",
       "8         44 Heads        0.033\n",
       "9         45 Heads        0.046\n",
       "10        46 Heads        0.079\n",
       "11        47 Heads        0.060\n",
       "12        48 Heads        0.076\n",
       "13        49 Heads        0.077\n",
       "14        50 Heads        0.083\n",
       "15        51 Heads        0.081\n",
       "16        52 Heads        0.073\n",
       "17        53 Heads        0.079\n",
       "18        54 Heads        0.056\n",
       "19        55 Heads        0.045\n",
       "20        56 Heads        0.041\n",
       "21        57 Heads        0.023\n",
       "22        58 Heads        0.016\n",
       "23        59 Heads        0.008\n",
       "24        60 Heads        0.009\n",
       "25        61 Heads        0.006\n",
       "26        62 Heads        0.006\n",
       "27        63 Heads        0.003\n",
       "28        64 Heads        0.004"
      ]
     },
     "execution_count": 2,
     "metadata": {},
     "output_type": "execute_result"
    }
   ],
   "source": [
    "import torch\n",
    "import pandas as pd\n",
    "import numpy as np\n",
    "def simulate_coin_flip(number_of_trials,p,size):\n",
    "    pmf = {}\n",
    "    dist = torch.distributions.Binomial(total_count = number_of_trials, probs = p)\n",
    "    heads = dist.sample((size,)).int().numpy()\n",
    "    head_count, count = np.unique(heads,return_counts = True)\n",
    "    empirical_pmf = count/size\n",
    "    for i, j in zip(head_count, empirical_pmf):\n",
    "        pmf[f'{i.item()} Heads'] = j.item()\n",
    "    data = pd.DataFrame(list(pmf.items()),columns = [\"Number of Heads\", \"Probability\"])\n",
    "    return data\n",
    "simulate_coin_flip(100,0.5,1000)"
   ]
  },
  {
   "cell_type": "markdown",
   "id": "4397f857-b1ff-4e3b-9b3c-4ae73ef7cad7",
   "metadata": {},
   "source": [
    "# Q3. (Optional)"
   ]
  },
  {
   "cell_type": "code",
   "execution_count": 7,
   "id": "c2d0f635-7046-457b-9a87-ac3370b1ca5b",
   "metadata": {},
   "outputs": [
    {
     "data": {
      "image/png": "[encoded data removed]",
      "text/plain": [
       "<Figure size 800x500 with 1 Axes>"
      ]
     },
     "metadata": {},
     "output_type": "display_data"
    },
    {
     "name": "stdout",
     "output_type": "stream",
     "text": [
      "The most common number of daily customers is: 14\n"
     ]
    }
   ],
   "source": [
    "import torch\n",
    "import matplotlib.pyplot as plt\n",
    "\n",
    "customer_counts = torch.tensor([12, 15, 14, 10, 18, 16, 14, 12, 15, 11, \n",
    "                                17, 14, 13, 19, 12, 18, 14, 10, 16, 15, \n",
    "                                14, 13, 17, 12, 18, 16, 14, 11, 19, 13])\n",
    "\n",
    "unique_counts, counts = torch.unique(customer_counts, return_counts=True)\n",
    "pmf = counts.float() / customer_counts.size(0)\n",
    "\n",
    "plt.figure(figsize=(8, 5))\n",
    "plt.bar(unique_counts.tolist(), pmf.tolist(), color='skyblue', edgecolor='black')\n",
    "plt.xlabel(\"No.of Customers\")\n",
    "plt.ylabel(\"PMF\")\n",
    "plt.title(\"PMF of Daily Customers in the Cafe\")\n",
    "plt.grid(axis='y', linestyle='--', alpha=0.6)\n",
    "plt.tight_layout()\n",
    "plt.show()\n",
    "\n",
    "most_common = unique_counts[torch.argmax(pmf)].item()\n",
    "print(\"The most common number of daily customers is:\", most_common)"
   ]
  },
  {
   "cell_type": "markdown",
   "id": "551cb524-d750-4ad3-a4e4-ec0f30ae17fc",
   "metadata": {},
   "source": [
    "# 3. Cumulative Distribution Function"
   ]
  },
  {
   "cell_type": "markdown",
   "id": "8cbe1aba-227a-4487-83a0-0af6ef3e8e4e",
   "metadata": {},
   "source": [
    "# Q1. (Mandatory)"
   ]
  },
  {
   "cell_type": "code",
   "execution_count": 8,
   "id": "72334d2b-4dfb-41a6-9b9b-abb7901d7eaa",
   "metadata": {},
   "outputs": [
    {
     "name": "stdout",
     "output_type": "stream",
     "text": [
      "x = 1,\tPMF = 0.067,\tCDF = 0.067\n",
      "x = 2,\tPMF = 0.133,\tCDF = 0.2\n",
      "x = 3,\tPMF = 0.2,\tCDF = 0.4\n",
      "x = 4,\tPMF = 0.267,\tCDF = 0.667\n",
      "x = 5,\tPMF = 0.333,\tCDF = 1.0\n",
      "\n",
      "Verifying the relationship between PMF and CDF:\n",
      "\n",
      "P(X=1) = 0.067, F(1) = 0.067\n",
      "P(X=2) = 0.133, F(2) - F(1) = 0.133\n",
      "P(X=3) = 0.2, F(3) - F(2) = 0.2\n",
      "P(X=4) = 0.267, F(4) - F(3) = 0.267\n",
      "P(X=5) = 0.333, F(5) - F(4) = 0.333\n"
     ]
    }
   ],
   "source": [
    "import torch\n",
    "\n",
    "x = torch.tensor([1, 2, 3, 4, 5], dtype=torch.float)\n",
    "pmf = x / 15\n",
    "\n",
    "cdf = torch.cumsum(pmf, dim=0)\n",
    "\n",
    "\n",
    "for i in range(len(x)):\n",
    "    print(f\"x = {int(x[i])},\\tPMF = {round(pmf[i].item(), 3)},\\tCDF = {round(cdf[i].item(), 3)}\")\n",
    "\n",
    "print(\"\\nVerifying the relationship between PMF and CDF:\\n\")\n",
    "print(f\"P(X=1) = {round(pmf[0].item(), 3)}, F(1) = {round(cdf[0].item(), 3)}\")\n",
    "for i in range(1, len(x)):\n",
    "    diff = cdf[i] - cdf[i - 1]\n",
    "    print(f\"P(X={int(x[i])}) = {round(pmf[i].item(), 3)}, F({int(x[i])}) - F({int(x[i]-1)}) = {round(diff.item(), 3)}\")"
   ]
  },
  {
   "cell_type": "markdown",
   "id": "d2d0386e-fec7-4491-afaf-05cd88d9ce2b",
   "metadata": {},
   "source": [
    "# Q2. (Optional)"
   ]
  },
  {
   "cell_type": "code",
   "execution_count": 9,
   "id": "62f7187d-4a0e-4810-8d8c-87cbd8c65d03",
   "metadata": {},
   "outputs": [
    {
     "name": "stdout",
     "output_type": "stream",
     "text": [
      "CDF values for a biased 6-sided die:\n",
      "X ≤ 1 : 0.05\n",
      "X ≤ 2 : 0.15\n",
      "X ≤ 3 : 0.3\n",
      "X ≤ 4 : 0.5\n",
      "X ≤ 5 : 0.75\n",
      "X ≤ 6 : 1.0\n"
     ]
    },
    {
     "data": {
      "image/png": "[encoded data removed]",
      "text/plain": [
       "<Figure size 800x500 with 1 Axes>"
      ]
     },
     "metadata": {},
     "output_type": "display_data"
    }
   ],
   "source": [
    "import torch\n",
    "import matplotlib.pyplot as plt\n",
    "\n",
    "def compute_cdf(values, pmf):\n",
    "    values = torch.tensor(values, dtype=torch.float)\n",
    "    pmf = torch.tensor(pmf, dtype=torch.float)\n",
    "    sorted_vals, indices = torch.sort(values)\n",
    "    sorted_pmf = pmf[indices]\n",
    "    cdf = torch.cumsum(sorted_pmf, dim=0)\n",
    "    return sorted_vals.tolist(), cdf.tolist()\n",
    "\n",
    "values = [3, 1, 6, 2, 5, 4]\n",
    "pmf = [0.15, 0.05, 0.25, 0.10, 0.25, 0.20]\n",
    "\n",
    "sorted_vals, cdf_vals = compute_cdf(values, pmf)\n",
    "\n",
    "print(\"CDF values for a biased 6-sided die:\")\n",
    "for val, prob in zip(sorted_vals, cdf_vals):\n",
    "    print(f\"X ≤ {int(val)} : {round(prob, 3)}\")\n",
    "\n",
    "plt.figure(figsize=(8, 5))\n",
    "plt.step(sorted_vals, cdf_vals, where='post', color='blue', label='CDF')\n",
    "plt.xlabel(\"Die Face Value\")\n",
    "plt.ylabel(\"CDF\")\n",
    "plt.title(\"CDF as a step function\")\n",
    "plt.grid(True, linestyle='--', alpha=0.6)\n",
    "plt.xticks(sorted(sorted_vals))\n",
    "plt.legend()\n",
    "plt.tight_layout()\n",
    "plt.show()"
   ]
  },
  {
   "cell_type": "markdown",
   "id": "5181b89f-3b04-46d7-91be-784800d4a049",
   "metadata": {},
   "source": [
    "# Q3. (Optional)"
   ]
  },
  {
   "cell_type": "code",
   "execution_count": 10,
   "id": "ad516d9a-ba82-4f35-b90e-25a6eb698987",
   "metadata": {},
   "outputs": [
    {
     "data": {
      "image/png": "[encoded data removed]",
      "text/plain": [
       "<Figure size 640x480 with 1 Axes>"
      ]
     },
     "metadata": {},
     "output_type": "display_data"
    }
   ],
   "source": [
    "import torch\n",
    "import matplotlib.pyplot as plt\n",
    "\n",
    "def pdf(x, mu, sigma):\n",
    "    return (1 / (torch.sqrt(torch.tensor(2 * torch.pi)) * sigma)) * torch.exp(-((x - mu) ** 2) / (2 * sigma ** 2))\n",
    "\n",
    "x = torch.linspace(-10, 10, 1000)\n",
    "mu = 0.0\n",
    "sigma = 1.0\n",
    "pdf_values = pdf(x, mu, sigma)\n",
    "cdf_values = torch.cumsum(pdf_values, dim=0) * (x[1] - x[0])  #HOW TO APPLY INTEGRATION ?\n",
    "\n",
    "plt.plot(x, pdf_values, label='PDF', color='blue')\n",
    "plt.plot(x, cdf_values, label='CDF', color='green')\n",
    "plt.xlabel('Random Variable')\n",
    "plt.ylabel('Value')\n",
    "plt.title('PDF and CDF of Normal Distribution')\n",
    "plt.legend()\n",
    "plt.grid(True)\n",
    "plt.tight_layout()\n",
    "plt.show()"
   ]
  },
  {
   "cell_type": "markdown",
   "id": "e378d10e-c6cc-439a-8a51-96b6b6b370ce",
   "metadata": {},
   "source": [
    "# 4. Expectation"
   ]
  },
  {
   "cell_type": "markdown",
   "id": "467c67f4-649c-4d5f-8ad7-1dc9b3323f7f",
   "metadata": {},
   "source": [
    "# Q1. (Mandatory) "
   ]
  },
  {
   "cell_type": "code",
   "execution_count": 11,
   "id": "197613cd-7af3-4064-8ee7-70b50d7df294",
   "metadata": {},
   "outputs": [
    {
     "name": "stdout",
     "output_type": "stream",
     "text": [
      "Average Net Gain: -0.122\n",
      "Theoretical Expected Net Gain: -0.125\n"
     ]
    }
   ],
   "source": [
    "import torch\n",
    "\n",
    "trials = 10000\n",
    "flips = torch.randint(0, 2, (trials, 3))\n",
    "heads = flips.sum(dim=1)\n",
    "\n",
    "rewards = torch.where(heads == 3, 8.0, torch.where(heads == 2, 1.0, 0.0))\n",
    "net_gains = rewards - 1.5\n",
    "average_net_gain = net_gains.mean().item()\n",
    "\n",
    "theoretical_expected_net_gain = (1/8)*8 + (3/8)*1 - 1.5\n",
    "\n",
    "print(\"Average Net Gain:\", round(average_net_gain, 3))\n",
    "print(\"Theoretical Expected Net Gain:\", round(theoretical_expected_net_gain, 3))\n"
   ]
  },
  {
   "cell_type": "markdown",
   "id": "6d17e7d4-dca0-4fc8-a2a3-6a1f1dbfb4d1",
   "metadata": {},
   "source": [
    "# Q2. (Optional)\n"
   ]
  },
  {
   "cell_type": "code",
   "execution_count": 12,
   "id": "f2b6c1bd-3531-4a98-b4e5-1689a071c778",
   "metadata": {},
   "outputs": [
    {
     "name": "stdout",
     "output_type": "stream",
     "text": [
      "Expected value: 2.3\n"
     ]
    }
   ],
   "source": [
    "import torch\n",
    "\n",
    "def compute_expected_value(pmf):\n",
    "    outcomes = torch.tensor(list(pmf.keys()), dtype=torch.int64)\n",
    "    probabilities = torch.tensor(list(pmf.values()), dtype=torch.float)\n",
    "    return (outcomes * probabilities).sum().item()\n",
    "\n",
    "pmf = {1: 0.2, 2: 0.3, 3: 0.5}\n",
    "expected_value = compute_expected_value(pmf)\n",
    "print(\"Expected value:\", round(expected_value, 3))"
   ]
  },
  {
   "cell_type": "markdown",
   "id": "1eb1b546-0baf-45ec-9591-c1b3a1df98a5",
   "metadata": {},
   "source": [
    "# Q3. (Optional)"
   ]
  },
  {
   "cell_type": "code",
   "execution_count": 13,
   "id": "4448b771-4dd9-4795-a2b5-59e04d142978",
   "metadata": {},
   "outputs": [
    {
     "name": "stdout",
     "output_type": "stream",
     "text": [
      "Expected value of a function g(x):  5.9\n"
     ]
    }
   ],
   "source": [
    "import torch\n",
    "\n",
    "def compute_expected_value_of_function(pmf, g):\n",
    "    outcomes = torch.tensor(list(pmf.keys()), dtype=torch.int64)\n",
    "    probabilities = torch.tensor(list(pmf.values()), dtype=torch.float)\n",
    "    gx = g(outcomes)\n",
    "    expected_value = torch.sum(gx * probabilities)\n",
    "    return expected_value\n",
    "\n",
    "pmf = {1: 0.2, 2: 0.3, 3: 0.5}\n",
    "g = lambda x: x**2\n",
    "\n",
    "expected_value = compute_expected_value_of_function(pmf, g)\n",
    "print(\"Expected value of a function g(x): \", round(expected_value.item(), 3))"
   ]
  },
  {
   "cell_type": "markdown",
   "id": "a0a10c70-0fef-4980-b394-d9b6ce89dd5a",
   "metadata": {},
   "source": [
    "# 5. Moments and Variance"
   ]
  },
  {
   "cell_type": "markdown",
   "id": "64264ef9-ed68-40ec-860a-d1848610d899",
   "metadata": {},
   "source": [
    "# Q1. (Mandatory)"
   ]
  },
  {
   "cell_type": "code",
   "execution_count": 14,
   "id": "6f2995f1-2d7b-4cd2-af4a-fa710da2db8e",
   "metadata": {},
   "outputs": [
    {
     "name": "stdout",
     "output_type": "stream",
     "text": [
      "Variance:  0.61\n"
     ]
    }
   ],
   "source": [
    "import torch\n",
    "\n",
    "def compute_variance(pmf):\n",
    "    outcomes = torch.tensor(list(pmf.keys()), dtype=torch.int64)\n",
    "    probabilities = torch.tensor(list(pmf.values()), dtype=torch.float)\n",
    "    mean = torch.sum(outcomes * probabilities)\n",
    "    squared_diff = (outcomes - mean) ** 2\n",
    "    variance = torch.sum(squared_diff * probabilities)\n",
    "    return variance\n",
    "\n",
    "pmf = {1: 0.2, 2: 0.3, 3: 0.5}\n",
    "variance = compute_variance(pmf)\n",
    "print(\"Variance: \", round(variance.item(), 3))"
   ]
  },
  {
   "cell_type": "markdown",
   "id": "5d97f752-ee31-4851-95d9-b02e0b1cdbd1",
   "metadata": {},
   "source": [
    "# Q2. (Optional)"
   ]
  },
  {
   "cell_type": "code",
   "execution_count": 15,
   "id": "874f3fba-e020-4724-8af3-3c2d7731edbc",
   "metadata": {},
   "outputs": [
    {
     "name": "stdout",
     "output_type": "stream",
     "text": [
      "k-th Moment:  16.1\n"
     ]
    }
   ],
   "source": [
    "import torch\n",
    "\n",
    "def compute_moment(pmf, k):\n",
    "    outcomes = torch.tensor(list(pmf.keys()), dtype=torch.int64)\n",
    "    probabilities = torch.tensor(list(pmf.values()), dtype=torch.float)\n",
    "    moment = torch.sum((outcomes ** k) * probabilities)\n",
    "    return moment\n",
    "\n",
    "pmf = {1: 0.2, 2: 0.3, 3: 0.5}\n",
    "k = 3\n",
    "moment = compute_moment(pmf, k)\n",
    "print(\"k-th Moment: \", round(moment.item(), 3))"
   ]
  },
  {
   "cell_type": "markdown",
   "id": "4ecdbfcf-3217-4730-afcf-0a6b63d69aea",
   "metadata": {},
   "source": [
    "# Q3. (Optional)"
   ]
  },
  {
   "cell_type": "code",
   "execution_count": 16,
   "id": "e21608a6-2a71-4769-b161-8f3d93b365ec",
   "metadata": {},
   "outputs": [
    {
     "name": "stdout",
     "output_type": "stream",
     "text": [
      "Variance of given function f(x):  0.089\n"
     ]
    }
   ],
   "source": [
    "import torch\n",
    "\n",
    "def estimate_variance(f, a, b, N):\n",
    "    dist = torch.distributions.Uniform(a, b)\n",
    "    x = dist.sample((N,))\n",
    "    fx = f(x)\n",
    "    return fx.var(unbiased=False) #IMP TO NOTICE\n",
    "\n",
    "f = lambda x: x**2\n",
    "a, b, N = 0, 1, 10000\n",
    "variance = estimate_variance(f, a, b, N)\n",
    "print(\"Variance of given function f(x): \", round(variance.item(), 3))"
   ]
  },
  {
   "cell_type": "markdown",
   "id": "649ad436-d5d2-410e-9add-cb133215b288",
   "metadata": {},
   "source": [
    "# 6. Bernoulli Random Variables"
   ]
  },
  {
   "cell_type": "markdown",
   "id": "5eb6bc99-9e78-4b7b-b097-de44137abac9",
   "metadata": {},
   "source": [
    "# Q1. (Mandatory) (Doubt)"
   ]
  },
  {
   "cell_type": "code",
   "execution_count": 21,
   "id": "f4e97b9c-b226-405a-8f6c-df18036e2de0",
   "metadata": {},
   "outputs": [
    {
     "name": "stdout",
     "output_type": "stream",
     "text": [
      "Outcome:  1\n"
     ]
    }
   ],
   "source": [
    "import torch\n",
    "\n",
    "def bernoulli_trial(p):\n",
    "    return int(torch.bernoulli(torch.tensor(p)).item())\n",
    "\n",
    "p = 0.7\n",
    "outcome = bernoulli_trial(p)\n",
    "print(\"Outcome: \", outcome)"
   ]
  },
  {
   "cell_type": "markdown",
   "id": "816195ca-4fac-4e8a-9822-508c70203fa4",
   "metadata": {},
   "source": [
    "# Q2. (Optional)"
   ]
  },
  {
   "cell_type": "code",
   "execution_count": 26,
   "id": "16ebbede-a76a-4832-9ac7-35012943d9d7",
   "metadata": {},
   "outputs": [
    {
     "name": "stdout",
     "output_type": "stream",
     "text": [
      "Expectation: 0.5, Variance: 0.25\n"
     ]
    }
   ],
   "source": [
    "import torch\n",
    "\n",
    "def bernoulli_stats(p):\n",
    "    p = torch.tensor(p)\n",
    "    expectation = p\n",
    "    variance = p * (1 - p)\n",
    "    return expectation.item(), variance.item()\n",
    "\n",
    "p = 0.5\n",
    "expectation, variance = bernoulli_stats(p)\n",
    "print(f\"Expectation: {expectation}, Variance: {variance}\")"
   ]
  },
  {
   "cell_type": "markdown",
   "id": "370cfc44-a7de-4d60-a88c-2b5f56a30b44",
   "metadata": {},
   "source": [
    "# Q3. (Optional)"
   ]
  },
  {
   "cell_type": "code",
   "execution_count": 36,
   "id": "f760b4c8-aad0-40de-9fc6-c97d94e1b786",
   "metadata": {},
   "outputs": [
    {
     "name": "stdout",
     "output_type": "stream",
     "text": [
      "Proportion of Successes:  0.309\n"
     ]
    }
   ],
   "source": [
    "import torch\n",
    "\n",
    "def simulate_bernoulli(p, N):\n",
    "    samples = torch.bernoulli(torch.full((N,), p))\n",
    "    proportion = samples.mean()\n",
    "    return proportion.item()\n",
    "\n",
    "p = 0.3\n",
    "N = 1000\n",
    "proportion = simulate_bernoulli(p, N)\n",
    "print(\"Proportion of Successes: \", round(proportion, 3))"
   ]
  }
 ],
 "metadata": {
  "kernelspec": {
   "display_name": "Python 3 (ipykernel)",
   "language": "python",
   "name": "python3"
  },
  "language_info": {
   "codemirror_mode": {
    "name": "ipython",
    "version": 3
   },
   "file_extension": ".py",
   "mimetype": "text/x-python",
   "name": "python",
   "nbconvert_exporter": "python",
   "pygments_lexer": "ipython3",
   "version": "3.12.6"
  }
 },
 "nbformat": 4,
 "nbformat_minor": 5
}
